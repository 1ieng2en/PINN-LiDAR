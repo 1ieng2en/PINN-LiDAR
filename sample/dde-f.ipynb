{
 "cells": [
  {
   "cell_type": "code",
   "execution_count": 2,
   "metadata": {},
   "outputs": [
    {
     "name": "stderr",
     "output_type": "stream",
     "text": [
      "Using backend: pytorch\n",
      "Other supported backends: tensorflow.compat.v1, tensorflow, jax, paddle.\n",
      "paddle supports more examples now and is recommended.\n"
     ]
    }
   ],
   "source": [
    "import deepxde as dde\n",
    "import numpy as np\n",
    "import matplotlib.pyplot as plt\n"
   ]
  },
  {
   "cell_type": "code",
   "execution_count": null,
   "metadata": {},
   "outputs": [],
   "source": [
    "\n",
    "# 定义计算域：2D 空间 (-1,1) x (-1,1)\n",
    "geom = dde.geometry.Rectangle([-1, -1], [1, 1])\n",
    "\n",
    "# 设定波数 k\n",
    "k = 10  # 对应的波长 λ = 2π/k\n",
    "\n",
    "# ===============================\n",
    "# 1. 物理约束：Helmholtz 方程\n",
    "# ===============================\n",
    "def helmholtz_equation(x, y, f_coeffs):\n",
    "    \"\"\" 计算 Helmholtz 方程残差 \"\"\"\n",
    "    laplacian_p = dde.grad.laplacian(y, x)\n",
    "    return laplacian_p + k**2 * y - f_fourier(x, f_coeffs)\n",
    "\n",
    "# ===============================\n",
    "# 2. 设定傅里叶展开的源项\n",
    "# ===============================\n",
    "def f_fourier(x, coeffs):\n",
    "    \"\"\" 计算傅里叶展开形式的源项 \"\"\"\n",
    "    N = len(coeffs) // 2  # 最高展开阶数\n",
    "    source_value = np.zeros_like(x[:, 0])\n",
    "    L = 1  # 归一化长度\n",
    "    for n in range(-N, N + 1):\n",
    "        kn = np.pi * n / L\n",
    "        source_value += coeffs[n + N] * np.exp(1j * kn * x[:, 0]) * np.exp(1j * kn * x[:, 1])\n",
    "    return np.real(source_value)\n",
    "\n",
    "# ===============================\n",
    "# 3. 设定边界条件\n",
    "# ===============================\n",
    "def boundary(_, on_boundary):\n",
    "    return on_boundary\n",
    "\n",
    "def zero_boundary(_):\n",
    "    return 0\n",
    "\n",
    "bc = dde.icbc.DirichletBC(geom, zero_boundary, boundary)\n",
    "\n",
    "# ===============================\n",
    "# 4. 设定 DeepONet 结构\n",
    "# ===============================\n",
    "degree = 5  # 傅里叶展开的最高阶数\n",
    "num_eval_points = 20  # 采样点数量\n",
    "evaluation_points = geom.uniform_points(num_eval_points, boundary=False)  # 采样点\n",
    "evaluation_points = evaluation_points[:num_eval_points, 0]\n",
    "\n",
    "# 设定傅里叶系数的采样空间\n",
    "# 2. 设定傅里叶展开的 PowerSeries\n",
    "degree = 10  # 最高展开阶数\n",
    "space = dde.data.PowerSeries(N=degree + 1)\n",
    "\n",
    "# 设定 PDE Operator\n",
    "pde = dde.data.PDE(geom, helmholtz_equation, bc, num_domain=1000, num_boundary=100)\n",
    "pde_op = dde.data.PDEOperatorCartesianProd(pde, space, evaluation_points, num_function=100)\n",
    "\n",
    "# 设定 DeepONet 结构\n",
    "dim_x = 2  # 空间维度\n",
    "p = 64  # 隐藏层维度\n",
    "net = dde.nn.DeepONetCartesianProd(\n",
    "    [num_eval_points, 64, p],\n",
    "    [dim_x, 64, p],\n",
    "    activation=\"tanh\",\n",
    "    kernel_initializer=\"Glorot normal\",\n",
    ")\n",
    "\n",
    "# ===============================\n",
    "# 5. 训练模型\n",
    "# ===============================\n",
    "model = dde.Model(pde_op, net)\n",
    "dde.optimizers.set_LBFGS_options(maxiter=1000)\n",
    "model.compile(\"L-BFGS\")\n",
    "model.train()\n",
    "\n",
    "# ===============================\n",
    "# 6. 预测声场\n",
    "# ===============================\n",
    "n_samples = 3\n",
    "features = space.random(n_samples)  # 采样 3 组傅里叶系数\n",
    "fx = space.eval_batch(features, evaluation_points)\n",
    "\n",
    "x_test = geom.uniform_points(1000, boundary=False)\n",
    "y_pred = model.predict((fx, x_test))\n",
    "\n",
    "# ===============================\n",
    "# 7. 可视化结果\n",
    "# ===============================\n",
    "fig, axs = plt.subplots(1, n_samples, figsize=(15, 5))\n",
    "for i in range(n_samples):\n",
    "    sc = axs[i].scatter(x_test[:, 0], x_test[:, 1], c=y_pred[i].real, cmap=\"jet\", marker=\".\")\n",
    "    axs[i].set_title(f\"Sample {i+1}\")\n",
    "    plt.colorbar(sc, ax=axs[i])\n",
    "plt.show()\n"
   ]
  },
  {
   "cell_type": "code",
   "execution_count": 2,
   "metadata": {},
   "outputs": [
    {
     "name": "stdout",
     "output_type": "stream",
     "text": [
      "Warning: 500 points required, but 529 points sampled.\n",
      "Compiling model...\n",
      "'compile' took 0.001058 s\n",
      "\n",
      "Training model...\n",
      "\n",
      "0         [2.00e-01, 1.05e+00, 2.39e-02, 3.69e-02]    [2.37e-01, 1.10e+00, 1.88e-02, 4.32e-02]    []  \n",
      "100       [2.04e-04, 5.25e-04, 6.07e-03, 1.83e-02]    [2.22e-04, 5.16e-04, 2.61e-03, 1.82e-02]    []  \n",
      "200       [5.27e-05, 3.82e-04, 6.75e-03, 1.53e-02]    [1.07e-04, 2.94e-04, 2.17e-03, 1.48e-02]    []  \n",
      "300       [1.09e-04, 1.41e-04, 7.16e-03, 1.21e-02]    [8.37e-05, 1.55e-04, 2.24e-03, 1.29e-02]    []  \n",
      "400       [7.19e-05, 1.52e-04, 7.71e-03, 1.22e-02]    [6.32e-05, 1.40e-04, 2.24e-03, 1.23e-02]    []  \n",
      "500       [6.21e-05, 2.30e-04, 7.29e-03, 9.45e-03]    [6.53e-05, 2.08e-04, 2.24e-03, 9.91e-03]    []  \n",
      "\n",
      "Best model at step 500:\n",
      "  train loss: 1.70e-02\n",
      "  test loss: 1.24e-02\n",
      "  test metric: []\n",
      "\n",
      "'train' took 2912.086637 s\n",
      "\n"
     ]
    },
    {
     "ename": "FileNotFoundError",
     "evalue": "[Errno 2] No such file or directory: '../dataset/stokes.npz'",
     "output_type": "error",
     "traceback": [
      "\u001b[1;31m---------------------------------------------------------------------------\u001b[0m",
      "\u001b[1;31mFileNotFoundError\u001b[0m                         Traceback (most recent call last)",
      "Cell \u001b[1;32mIn[2], line 97\u001b[0m\n\u001b[0;32m     95\u001b[0m xy \u001b[38;5;241m=\u001b[39m np\u001b[38;5;241m.\u001b[39mvstack((np\u001b[38;5;241m.\u001b[39mravel(xv), np\u001b[38;5;241m.\u001b[39mravel(yv)))\u001b[38;5;241m.\u001b[39mT\n\u001b[0;32m     96\u001b[0m sol_pred \u001b[38;5;241m=\u001b[39m model\u001b[38;5;241m.\u001b[39mpredict((v, xy))[\u001b[38;5;241m0\u001b[39m]\n\u001b[1;32m---> 97\u001b[0m sol_true \u001b[38;5;241m=\u001b[39m \u001b[43mnp\u001b[49m\u001b[38;5;241;43m.\u001b[39;49m\u001b[43mload\u001b[49m\u001b[43m(\u001b[49m\u001b[38;5;124;43m'\u001b[39;49m\u001b[38;5;124;43m../dataset/stokes.npz\u001b[39;49m\u001b[38;5;124;43m'\u001b[39;49m\u001b[43m)\u001b[49m[\u001b[38;5;124m'\u001b[39m\u001b[38;5;124marr_0\u001b[39m\u001b[38;5;124m'\u001b[39m]\n\u001b[0;32m     98\u001b[0m \u001b[38;5;28mprint\u001b[39m(\u001b[38;5;124m'\u001b[39m\u001b[38;5;124mError on horizontal velocity:\u001b[39m\u001b[38;5;124m'\u001b[39m, dde\u001b[38;5;241m.\u001b[39mmetrics\u001b[38;5;241m.\u001b[39ml2_relative_error(sol_true[:, \u001b[38;5;241m0\u001b[39m], sol_pred[:, \u001b[38;5;241m0\u001b[39m]))\n\u001b[0;32m     99\u001b[0m \u001b[38;5;28mprint\u001b[39m(\u001b[38;5;124m'\u001b[39m\u001b[38;5;124mError on vertical velocity:\u001b[39m\u001b[38;5;124m'\u001b[39m, dde\u001b[38;5;241m.\u001b[39mmetrics\u001b[38;5;241m.\u001b[39ml2_relative_error(sol_true[:, \u001b[38;5;241m1\u001b[39m], sol_pred[:, \u001b[38;5;241m1\u001b[39m]))\n",
      "File \u001b[1;32m~\\AppData\\Roaming\\Python\\Python312\\site-packages\\numpy\\lib\\npyio.py:427\u001b[0m, in \u001b[0;36mload\u001b[1;34m(file, mmap_mode, allow_pickle, fix_imports, encoding, max_header_size)\u001b[0m\n\u001b[0;32m    425\u001b[0m     own_fid \u001b[38;5;241m=\u001b[39m \u001b[38;5;28;01mFalse\u001b[39;00m\n\u001b[0;32m    426\u001b[0m \u001b[38;5;28;01melse\u001b[39;00m:\n\u001b[1;32m--> 427\u001b[0m     fid \u001b[38;5;241m=\u001b[39m stack\u001b[38;5;241m.\u001b[39menter_context(\u001b[38;5;28;43mopen\u001b[39;49m\u001b[43m(\u001b[49m\u001b[43mos_fspath\u001b[49m\u001b[43m(\u001b[49m\u001b[43mfile\u001b[49m\u001b[43m)\u001b[49m\u001b[43m,\u001b[49m\u001b[43m \u001b[49m\u001b[38;5;124;43m\"\u001b[39;49m\u001b[38;5;124;43mrb\u001b[39;49m\u001b[38;5;124;43m\"\u001b[39;49m\u001b[43m)\u001b[49m)\n\u001b[0;32m    428\u001b[0m     own_fid \u001b[38;5;241m=\u001b[39m \u001b[38;5;28;01mTrue\u001b[39;00m\n\u001b[0;32m    430\u001b[0m \u001b[38;5;66;03m# Code to distinguish from NumPy binary files and pickles.\u001b[39;00m\n",
      "\u001b[1;31mFileNotFoundError\u001b[0m: [Errno 2] No such file or directory: '../dataset/stokes.npz'"
     ]
    },
    {
     "data": {
      "image/png": "[encoded data removed]",
      "text/plain": [
       "<Figure size 640x480 with 1 Axes>"
      ]
     },
     "metadata": {},
     "output_type": "display_data"
    }
   ],
   "source": [
    "\"\"\"Backend supported: tensorflow, pytorch\"\"\"\n",
    "import deepxde as dde\n",
    "import matplotlib.pyplot as plt\n",
    "import numpy as np\n",
    "\n",
    "\n",
    "# PDE equation\n",
    "def pde(xy, uvp, aux):\n",
    "    mu = 0.01\n",
    "    # first order\n",
    "    du_x = dde.grad.jacobian(uvp, xy, i=0, j=0)\n",
    "    dv_y = dde.grad.jacobian(uvp, xy, i=1, j=1)\n",
    "    dp_x = dde.grad.jacobian(uvp, xy, i=2, j=0)\n",
    "    dp_y = dde.grad.jacobian(uvp, xy, i=2, j=1)\n",
    "    # second order\n",
    "    du_xx = dde.grad.hessian(uvp, xy, component=0, i=0, j=0)\n",
    "    du_yy = dde.grad.hessian(uvp, xy, component=0, i=1, j=1)\n",
    "    dv_xx = dde.grad.hessian(uvp, xy, component=1, i=0, j=0)\n",
    "    dv_yy = dde.grad.hessian(uvp, xy, component=1, i=1, j=1)\n",
    "    motion_x = mu * (du_xx + du_yy) - dp_x\n",
    "    motion_y = mu * (dv_xx + dv_yy) - dp_y\n",
    "    mass = du_x + dv_y\n",
    "    return motion_x, motion_y, mass\n",
    "\n",
    "# Geometry\n",
    "geom = dde.geometry.Rectangle([0, 0], [1, 1])\n",
    "\n",
    "# Boundary condition\n",
    "# other boundary conditions will be enforced by output transform\n",
    "def bc_slip_top_func(x, aux_var):\n",
    "    # using (perturbation / 10 + 1) * x * (1 - x)\n",
    "    return (aux_var / 10 + 1.) * dde.backend.as_tensor(x[:, 0:1] * (1 - x[:, 0:1]))\n",
    "\n",
    "bc_slip_top = dde.icbc.DirichletBC(\n",
    "    geom=geom,\n",
    "    func=bc_slip_top_func,\n",
    "    on_boundary=lambda x, on_boundary: np.isclose(x[1], 1.),\n",
    "    component=0)\n",
    "\n",
    "# PDE object\n",
    "pde = dde.data.PDE(\n",
    "    geom,\n",
    "    pde,\n",
    "    bcs=[bc_slip_top],\n",
    "    num_domain=2000,\n",
    "    num_boundary=1000,  # sampling a bit more points on boundary (1000 on top bc)\n",
    "    num_test=500,\n",
    ")\n",
    "\n",
    "# Function space\n",
    "func_space = dde.data.GRF(length_scale=0.2)\n",
    "\n",
    "# Data\n",
    "n_pts_edge = 101  # using the size of true solution, but this is unnecessary\n",
    "eval_pts = np.linspace(0, 1, num=n_pts_edge)[:, None]\n",
    "data = dde.data.PDEOperatorCartesianProd(\n",
    "    pde, func_space, eval_pts, num_function=1000,\n",
    "    function_variables=[0], num_test=100, batch_size=20\n",
    ")\n",
    "\n",
    "# Net\n",
    "net = dde.nn.DeepONetCartesianProd(\n",
    "    [n_pts_edge, 128, 128, 128],\n",
    "    [2, 128, 128, 128],\n",
    "    \"tanh\",\n",
    "    \"Glorot normal\",\n",
    "    num_outputs=3,\n",
    "    multi_output_strategy=\"independent\"\n",
    ")\n",
    "\n",
    "# Output transform for zero boundary conditions\n",
    "def out_transform(inputs, outputs):\n",
    "    x, y = inputs[1][:, 0], inputs[1][:, 1]\n",
    "    # horizontal velocity on left, right, bottom\n",
    "    u = outputs[:, :, 0] * (x * (1 - x) * y)[None, :]\n",
    "    # vertical velocity on all edges\n",
    "    v = outputs[:, :, 1] * (x * (1 - x) * y * (1 - y))[None, :]\n",
    "    # pressure on bottom\n",
    "    p = outputs[:, :, 2] * y[None, :]\n",
    "    return dde.backend.stack((u, v, p), axis=2)\n",
    "\n",
    "net.apply_output_transform(out_transform)\n",
    "\n",
    "# Model\n",
    "model = dde.Model(data, net)\n",
    "model.compile(\"adam\", lr=0.001, decay=(\"inverse time\", 10000, 0.5))\n",
    "losshistory, train_state = model.train(iterations=500, display_every=100)\n",
    "dde.utils.plot_loss_history(losshistory)\n",
    "# save model if needed\n"
   ]
  },
  {
   "cell_type": "code",
   "execution_count": 6,
   "metadata": {},
   "outputs": [
    {
     "data": {
      "text/plain": [
       "'stokes_weights-500.pt'"
      ]
     },
     "execution_count": 6,
     "metadata": {},
     "output_type": "execute_result"
    },
    {
     "ename": "",
     "evalue": "",
     "output_type": "error",
     "traceback": [
      "\u001b[1;31mThe Kernel crashed while executing code in the current cell or a previous cell. \n",
      "\u001b[1;31mPlease review the code in the cell(s) to identify a possible cause of the failure. \n",
      "\u001b[1;31mClick <a href='https://aka.ms/vscodeJupyterKernelCrash'>here</a> for more info. \n",
      "\u001b[1;31mView Jupyter <a href='command:jupyter.viewOutput'>log</a> for further details."
     ]
    }
   ],
   "source": [
    "\n",
    "model.save('stokes_weights')\n"
   ]
  },
  {
   "cell_type": "code",
   "execution_count": 7,
   "metadata": {},
   "outputs": [],
   "source": [
    "\n",
    "# Model\n",
    "model = dde.Model(data = [], net = [])"
   ]
  },
  {
   "cell_type": "code",
   "execution_count": 12,
   "metadata": {},
   "outputs": [
    {
     "ename": "AttributeError",
     "evalue": "'list' object has no attribute 'load_state_dict'",
     "output_type": "error",
     "traceback": [
      "\u001b[1;31m---------------------------------------------------------------------------\u001b[0m",
      "\u001b[1;31mAttributeError\u001b[0m                            Traceback (most recent call last)",
      "Cell \u001b[1;32mIn[12], line 2\u001b[0m\n\u001b[0;32m      1\u001b[0m \u001b[38;5;66;03m# load the saved model\u001b[39;00m\n\u001b[1;32m----> 2\u001b[0m \u001b[43mmodel\u001b[49m\u001b[38;5;241;43m.\u001b[39;49m\u001b[43mrestore\u001b[49m\u001b[43m(\u001b[49m\u001b[38;5;124;43m\"\u001b[39;49m\u001b[38;5;124;43mstokes_weights-500.pt\u001b[39;49m\u001b[38;5;124;43m\"\u001b[39;49m\u001b[43m)\u001b[49m\n\u001b[0;32m      4\u001b[0m \u001b[38;5;66;03m# Evaluation\u001b[39;00m\n\u001b[0;32m      5\u001b[0m func_feats \u001b[38;5;241m=\u001b[39m func_space\u001b[38;5;241m.\u001b[39mrandom(\u001b[38;5;241m1\u001b[39m)\n",
      "File \u001b[1;32m~\\AppData\\Roaming\\Python\\Python312\\site-packages\\deepxde\\model.py:1131\u001b[0m, in \u001b[0;36mModel.restore\u001b[1;34m(self, save_path, device, verbose)\u001b[0m\n\u001b[0;32m   1129\u001b[0m     \u001b[38;5;28;01melse\u001b[39;00m:\n\u001b[0;32m   1130\u001b[0m         checkpoint \u001b[38;5;241m=\u001b[39m torch\u001b[38;5;241m.\u001b[39mload(save_path)\n\u001b[1;32m-> 1131\u001b[0m     \u001b[38;5;28;43mself\u001b[39;49m\u001b[38;5;241;43m.\u001b[39;49m\u001b[43mnet\u001b[49m\u001b[38;5;241;43m.\u001b[39;49m\u001b[43mload_state_dict\u001b[49m(checkpoint[\u001b[38;5;124m\"\u001b[39m\u001b[38;5;124mmodel_state_dict\u001b[39m\u001b[38;5;124m\"\u001b[39m])\n\u001b[0;32m   1132\u001b[0m     \u001b[38;5;28mself\u001b[39m\u001b[38;5;241m.\u001b[39mopt\u001b[38;5;241m.\u001b[39mload_state_dict(checkpoint[\u001b[38;5;124m\"\u001b[39m\u001b[38;5;124moptimizer_state_dict\u001b[39m\u001b[38;5;124m\"\u001b[39m])\n\u001b[0;32m   1133\u001b[0m \u001b[38;5;28;01melif\u001b[39;00m backend_name \u001b[38;5;241m==\u001b[39m \u001b[38;5;124m\"\u001b[39m\u001b[38;5;124mpaddle\u001b[39m\u001b[38;5;124m\"\u001b[39m:\n",
      "\u001b[1;31mAttributeError\u001b[0m: 'list' object has no attribute 'load_state_dict'"
     ]
    }
   ],
   "source": [
    "\n",
    "# load the saved model\n",
    "model.restore(\"stokes_weights-500.pt\")\n",
    "\n",
    "# Evaluation\n",
    "func_feats = func_space.random(1)\n",
    "v = func_space.eval_batch(func_feats, eval_pts)\n",
    "v[:] = 0.  # true solution uses zero perturbation\n",
    "xv, yv = np.meshgrid(eval_pts[:, 0], eval_pts[:, 0], indexing='ij')\n",
    "xy = np.vstack((np.ravel(xv), np.ravel(yv))).T\n",
    "sol_pred = model.predict((v, xy))[0]\n",
    "\n",
    "# sol_true = np.load('../dataset/stokes.npz')['arr_0']\n",
    "# print('Error on horizontal velocity:', dde.metrics.l2_relative_error(sol_true[:, 0], sol_pred[:, 0]))\n",
    "# print('Error on vertical velocity:', dde.metrics.l2_relative_error(sol_true[:, 1], sol_pred[:, 1]))\n",
    "# print('Error on pressure:', dde.metrics.l2_relative_error(sol_true[:, 2], sol_pred[:, 2]))\n",
    "\n",
    "# Plot\n",
    "def plot_sol(sol, ax, pressure_lim=0.03, vec_space=4, vec_scale=.5, label=\"\"):\n",
    "    ax.imshow(sol[:, :, 2].T, origin=\"lower\",\n",
    "              vmin=-pressure_lim, vmax=pressure_lim, cmap=\"turbo\", alpha=.6)\n",
    "    ax.quiver(xv[::vec_space, ::vec_space] * 100,\n",
    "              yv[::vec_space, ::vec_space] * 100,\n",
    "              sol[::vec_space, ::vec_space, 0],\n",
    "              sol[::vec_space, ::vec_space, 1], color=\"k\", scale=vec_scale)\n",
    "    ax.axis('off')\n",
    "    ax.set_title(label)\n",
    "\n",
    "fig, ax = plt.subplots(1, 2, dpi=200)\n",
    "# plot_sol(sol_true.reshape(101, 101, 3), ax[0], label=\"True\")\n",
    "plot_sol(sol_pred.reshape(101, 101, 3), ax[1], label=\"Predicted\")\n",
    "# save plot if needed\n",
    "# plt.savefig('stokes_plot.png')\n",
    "plt.show()"
   ]
  },
  {
   "cell_type": "code",
   "execution_count": 3,
   "metadata": {},
   "outputs": [],
   "source": [
    "import torch\n",
    "\n",
    "torch.cuda.empty_cache()"
   ]
  },
  {
   "cell_type": "code",
   "execution_count": null,
   "metadata": {},
   "outputs": [],
   "source": [
    "torch.cuda.empty_cache()"
   ]
  }
 ],
 "metadata": {
  "kernelspec": {
   "display_name": "myenv",
   "language": "python",
   "name": "python3"
  },
  "language_info": {
   "codemirror_mode": {
    "name": "ipython",
    "version": 3
   },
   "file_extension": ".py",
   "mimetype": "text/x-python",
   "name": "python",
   "nbconvert_exporter": "python",
   "pygments_lexer": "ipython3",
   "version": "3.12.5"
  }
 },
 "nbformat": 4,
 "nbformat_minor": 2
}
