{
 "cells": [
  {
   "cell_type": "markdown",
   "metadata": {},
   "source": [
    "This project is aiming on using the PINN for sound field reproduciton with 3d scanned geoemtry.\n",
    "\n",
    "\n",
    "$$u_t + \\lambda_{1}(uu_x + vu_y) = -p_x + \\lambda_{2}(u_{xx} + u_{yy}), v_t + \\lambda_{1}(uv_x + vv_y) = -p_y + \\lambda_{2}(v_{xx} + v_{yy}),$$\n",
    "\n",
    "where $u(t, x, y)$ and $v(t, x, y)$ are the x and y components of the velocity field, and $p(t, x, y)$ is the pressure, we seek the unknowns $\\lambda = (\\lambda_1, \\lambda_2)$. When required, we integrate the constraints:\n",
    "\n",
    "$$ 0 = u_x + v_y, u = \\psi_y, v = -\\psi_x,$$\n",
    "\n",
    "We use a dual-output neural network to approximate $[\\psi(t, x, y), p(t, x, y)]$, leading to a physics-informed neural network $[f(t, x, y), g(t, x, y)]$. \n"
   ]
  },
  {
   "cell_type": "markdown",
   "metadata": {},
   "source": [
    "\n",
    "### Problem Setup \n",
    "\n",
    "| Continuous Inverse Navier-Stokes Equation | |\n",
    "|------------------------------|---|\n",
    "| PDE equations | $f =  u_t + \\lambda_1 (u u_x + v u_y) + p_x - \\lambda_2  (u_{xx} + u_{yy}), g = v_t + \\lambda_1 (u v_x + v  v_y) + p_y - \\lambda_2  (v_{xx} + v_{yy})$ |\n",
    "| Assumptions | $u = \\psi_y, v = -\\psi_x$ |\n",
    "| The output of net | $[\\psi(t, x, y), p(t, x, y)]$ |\n",
    "| Layers of net | $[3] + 8 \\times [20] +[2]$ |\n",
    "| Sample count from collection points | $5000^*$ |\n",
    "| Sample count from solution | $5000^*$ |\n",
    "| Loss function | $\\text{SSE}_s  + \\text{SSE}_c$ |\n",
    "\\* Same points used for collocation and solutions.\n"
   ]
  },
  {
   "cell_type": "markdown",
   "metadata": {},
   "source": [
    "The reason we use PINN is to reduce the computational time of a direct solution. we aim to find a PINN network model to reduce the full NS function into a NN calculation. Hence, a general training shall be using the PINN for the point sound pressure prediction. \n",
    "\n",
    "The training process shall be,\n",
    "With the given geometry, and the input microphone array sound pressure, it can return the surface sound pressure (SSP)\n",
    "\n",
    "Training data set shall be obtained by the simplest synario, and then the training datas will be simplified.\n",
    "\n",
    "The process shall also take consideration of convex optimization, that we could use limited observation point to represent the entire system and find the limited source location. \n",
    "\n",
    "This method is already been well evaluated and is called CS-DL (compressive sensing - deep learning) methods, it shall be used in "
   ]
  },
  {
   "cell_type": "markdown",
   "metadata": {},
   "source": [
    "The reconstruction of CS depending on the sparse structure of the signal, PINN does the same, it gives additional constraints that the singal must be fulfill the physical law. Hence the question becomes to how to combine these two methods togther."
   ]
  },
  {
   "cell_type": "code",
   "execution_count": 1,
   "metadata": {},
   "outputs": [],
   "source": [
    "# Step 1: Set Up the Environment\n",
    "import numpy as np\n",
    "import torch\n",
    "import torch.nn as nn\n",
    "import torch.optim as optim\n",
    "\n",
    "# For PDE solving and automatic differentiation\n",
    "from torch.autograd import grad\n",
    "\n",
    "# Set device (CPU or GPU)\n",
    "torch.set_float32_matmul_precision('medium')\n",
    "device = torch.device('cuda')\n"
   ]
  },
  {
   "cell_type": "code",
   "execution_count": 2,
   "metadata": {},
   "outputs": [
    {
     "data": {
      "text/plain": [
       "True"
      ]
     },
     "execution_count": 2,
     "metadata": {},
     "output_type": "execute_result"
    }
   ],
   "source": [
    "torch.cuda.is_available()"
   ]
  },
  {
   "cell_type": "code",
   "execution_count": 3,
   "metadata": {},
   "outputs": [],
   "source": [
    "# Step 2: Implement the CS Reconstruction Module (LAMP)\n",
    "\n",
    "class LAMPlayer(nn.Module):\n",
    "    def __init__(self, sensing_matrix, num_layers, shrinkage='soft'):\n",
    "        super(LAMPlayer, self).__init__()\n",
    "        self.num_layers = num_layers\n",
    "        self.sensing_matrix = sensing_matrix.to(device)\n",
    "        self.sensing_matrix_t = sensing_matrix.t().to(device)\n",
    "        self.theta = nn.ParameterList()\n",
    "        self.shrinkage = shrinkage\n",
    "\n",
    "        # Initialize learnable parameters for each layer\n",
    "        for _ in range(num_layers):\n",
    "            self.theta.append(nn.Parameter(torch.Tensor([0.1])))\n",
    "    \n",
    "    def forward(self, y):\n",
    "        # Initialize variables\n",
    "        a = torch.zeros(self.sensing_matrix.shape[1], y.shape[1]).to(device)\n",
    "        r = y.clone().to(device)\n",
    "        \n",
    "        for t in range(self.num_layers):\n",
    "            # Linear step\n",
    "            z = a + self.sensing_matrix_t @ r\n",
    "            # Non-linear step (Learned shrinkage)\n",
    "            a = self.shrinkage_function(z, self.theta[t])\n",
    "            # Residual update\n",
    "            r = y - self.sensing_matrix @ a\n",
    "            # Optional: Include Onsager correction term if needed\n",
    "        return a\n",
    "\n",
    "    def shrinkage_function(self, x, theta):\n",
    "        if self.shrinkage == 'soft':\n",
    "            return torch.sign(x) * torch.relu(torch.abs(x) - theta)\n",
    "        else:\n",
    "            # Implement other shrinkage functions if needed\n",
    "            return x\n"
   ]
  },
  {
   "cell_type": "code",
   "execution_count": 4,
   "metadata": {},
   "outputs": [],
   "source": [
    "# Step 3: Implement the PINN Module\n",
    "\n",
    "class PINN(nn.Module):\n",
    "    def __init__(self, input_dim, hidden_dim, output_dim, num_hidden_layers):\n",
    "        super(PINN, self).__init__()\n",
    "        layers = []\n",
    "        layers.append(nn.Linear(input_dim, hidden_dim))\n",
    "        layers.append(nn.Tanh())\n",
    "        for _ in range(num_hidden_layers):\n",
    "            layers.append(nn.Linear(hidden_dim, hidden_dim))\n",
    "            layers.append(nn.Tanh())\n",
    "        layers.append(nn.Linear(hidden_dim, output_dim))\n",
    "        self.net = nn.Sequential(*layers)\n",
    "\n",
    "    def forward(self, x):\n",
    "        return self.net(x)\n"
   ]
  },
  {
   "cell_type": "code",
   "execution_count": 5,
   "metadata": {},
   "outputs": [],
   "source": [
    "# Step 4: Integrate Both Modules\n",
    "\n",
    "class CS_PINN_Model(nn.Module):\n",
    "    def __init__(self, sensing_matrix, num_lamp_layers, pinn_params):\n",
    "        super(CS_PINN_Model, self).__init__()\n",
    "        self.lamp = LAMPlayer(sensing_matrix, num_lamp_layers)\n",
    "        self.pinn = PINN(**pinn_params)\n",
    "    \n",
    "    def forward(self, y, x_pinn):\n",
    "        # CS Reconstruction\n",
    "        a_init = self.lamp(y)\n",
    "        # Map sparse coefficients to initial pressure field estimate\n",
    "        # Assuming basis functions are available\n",
    "        p_init = self.basis_functions(x_pinn, a_init)\n",
    "        # PINN Refinement\n",
    "        p_pred = self.pinn(x_pinn)\n",
    "        return p_pred, a_init\n",
    "    \n",
    "    def basis_functions(self, x, a):\n",
    "        # Implement the mapping from coefficients to pressure field\n",
    "        # For simplicity, assume Fourier basis or other suitable basis\n",
    "        # x: (N_samples, input_dim)\n",
    "        # a: (num_basis, batch_size)\n",
    "        # Return: p_init (N_samples, 1)\n",
    "        # Placeholder implementation:\n",
    "        return torch.zeros(x.shape[0], 1).to(device)\n"
   ]
  },
  {
   "cell_type": "code",
   "execution_count": 6,
   "metadata": {},
   "outputs": [],
   "source": [
    "def loss_function(model, y, x_pinn, x_boundary, p_boundary, lambda_cs, lambda_pde, lambda_boundary):\n",
    "    # Forward pass\n",
    "    p_pred, a_init = model(y, x_pinn)\n",
    "    \n",
    "    # CS Reconstruction Loss (Data Fidelity)\n",
    "    y_pred = model.lamp.sensing_matrix @ a_init\n",
    "    cs_loss = nn.MSELoss()(y_pred, y)\n",
    "    \n",
    "    # PDE Residual Loss (Physics Loss)\n",
    "    # No need to set p_pred.requires_grad_(True) here\n",
    "    # Compute gradients for PDE residual\n",
    "    grad_p = grad(p_pred, x_pinn, torch.ones_like(p_pred), create_graph=True)[0]\n",
    "    laplacian_p = torch.zeros_like(p_pred).to(device)\n",
    "    for i in range(x_pinn.shape[1]):\n",
    "        grad_p_i = grad(grad_p[:, i], x_pinn, torch.ones_like(grad_p[:, i]), create_graph=True)[0][:, i]\n",
    "        laplacian_p += grad_p_i.unsqueeze(1)\n",
    "    # Helmholtz Equation Residual: ∇²p + k²p = 0\n",
    "    k = 2 * np.pi / 0.1  # Example wavenumber\n",
    "    pde_residual = laplacian_p + (k ** 2) * p_pred\n",
    "    pde_loss = torch.mean(pde_residual ** 2)\n",
    "    \n",
    "    # Boundary Condition Loss\n",
    "    p_boundary_pred = model.pinn(x_boundary)\n",
    "    boundary_loss = nn.MSELoss()(p_boundary_pred, p_boundary)\n",
    "    \n",
    "    # Total Loss\n",
    "    total_loss = lambda_cs * cs_loss + lambda_pde * pde_loss + lambda_boundary * boundary_loss\n",
    "    return total_loss, cs_loss.item(), pde_loss.item(), boundary_loss.item()\n"
   ]
  },
  {
   "cell_type": "code",
   "execution_count": 7,
   "metadata": {},
   "outputs": [
    {
     "name": "stderr",
     "output_type": "stream",
     "text": [
      "c:\\ProgramData\\anaconda3\\envs\\myenv\\Lib\\site-packages\\torch\\autograd\\graph.py:769: UserWarning: Attempting to run cuBLAS, but there was no current CUDA context! Attempting to set the primary context... (Triggered internally at C:\\actions-runner\\_work\\pytorch\\pytorch\\builder\\windows\\pytorch\\aten\\src\\ATen\\cuda\\CublasHandlePool.cpp:135.)\n",
      "  return Variable._execution_engine.run_backward(  # Calls into the C++ engine to run the backward pass\n"
     ]
    },
    {
     "name": "stdout",
     "output_type": "stream",
     "text": [
      "Epoch 0: Total Loss=inf, CS Loss=inf, PDE Loss=14906.867188, Boundary Loss=0.000933\n",
      "Epoch 100: Total Loss=nan, CS Loss=nan, PDE Loss=3.709313, Boundary Loss=0.000000\n",
      "Epoch 200: Total Loss=nan, CS Loss=nan, PDE Loss=1.663771, Boundary Loss=0.000000\n",
      "Epoch 300: Total Loss=nan, CS Loss=nan, PDE Loss=1.127248, Boundary Loss=0.000000\n",
      "Epoch 400: Total Loss=nan, CS Loss=nan, PDE Loss=0.878232, Boundary Loss=0.000000\n",
      "Epoch 500: Total Loss=nan, CS Loss=nan, PDE Loss=0.714966, Boundary Loss=0.000000\n",
      "Epoch 600: Total Loss=nan, CS Loss=nan, PDE Loss=0.589077, Boundary Loss=0.000000\n",
      "Epoch 700: Total Loss=nan, CS Loss=nan, PDE Loss=0.488341, Boundary Loss=0.000000\n",
      "Epoch 800: Total Loss=nan, CS Loss=nan, PDE Loss=0.407813, Boundary Loss=0.000000\n",
      "Epoch 900: Total Loss=nan, CS Loss=nan, PDE Loss=0.340791, Boundary Loss=0.000000\n",
      "Epoch 1000: Total Loss=nan, CS Loss=nan, PDE Loss=0.288520, Boundary Loss=0.000000\n",
      "Epoch 1100: Total Loss=nan, CS Loss=nan, PDE Loss=0.245856, Boundary Loss=0.000000\n",
      "Epoch 1200: Total Loss=nan, CS Loss=nan, PDE Loss=0.215930, Boundary Loss=0.000000\n",
      "Epoch 1300: Total Loss=nan, CS Loss=nan, PDE Loss=0.196940, Boundary Loss=0.000000\n",
      "Epoch 1400: Total Loss=nan, CS Loss=nan, PDE Loss=0.167073, Boundary Loss=0.000000\n",
      "Epoch 1500: Total Loss=nan, CS Loss=nan, PDE Loss=0.162309, Boundary Loss=0.000000\n",
      "Epoch 1600: Total Loss=nan, CS Loss=nan, PDE Loss=0.401485, Boundary Loss=0.000000\n",
      "Epoch 1700: Total Loss=nan, CS Loss=nan, PDE Loss=0.118286, Boundary Loss=0.000000\n",
      "Epoch 1800: Total Loss=nan, CS Loss=nan, PDE Loss=0.141927, Boundary Loss=0.000000\n",
      "Epoch 1900: Total Loss=nan, CS Loss=nan, PDE Loss=3.079162, Boundary Loss=0.000000\n",
      "Epoch 2000: Total Loss=nan, CS Loss=nan, PDE Loss=0.229898, Boundary Loss=0.000000\n",
      "Epoch 2100: Total Loss=nan, CS Loss=nan, PDE Loss=26.678087, Boundary Loss=0.000002\n",
      "Epoch 2200: Total Loss=nan, CS Loss=nan, PDE Loss=0.078606, Boundary Loss=0.000000\n",
      "Epoch 2300: Total Loss=nan, CS Loss=nan, PDE Loss=0.066049, Boundary Loss=0.000000\n",
      "Epoch 2400: Total Loss=nan, CS Loss=nan, PDE Loss=0.059894, Boundary Loss=0.000000\n",
      "Epoch 2500: Total Loss=nan, CS Loss=nan, PDE Loss=0.062573, Boundary Loss=0.000000\n",
      "Epoch 2600: Total Loss=nan, CS Loss=nan, PDE Loss=0.057013, Boundary Loss=0.000000\n",
      "Epoch 2700: Total Loss=nan, CS Loss=nan, PDE Loss=0.743804, Boundary Loss=0.000000\n",
      "Epoch 2800: Total Loss=nan, CS Loss=nan, PDE Loss=0.067461, Boundary Loss=0.000000\n",
      "Epoch 2900: Total Loss=nan, CS Loss=nan, PDE Loss=0.294249, Boundary Loss=0.000000\n",
      "Epoch 3000: Total Loss=nan, CS Loss=nan, PDE Loss=0.036413, Boundary Loss=0.000000\n",
      "Epoch 3100: Total Loss=nan, CS Loss=nan, PDE Loss=0.078020, Boundary Loss=0.000000\n",
      "Epoch 3200: Total Loss=nan, CS Loss=nan, PDE Loss=0.034875, Boundary Loss=0.000000\n",
      "Epoch 3300: Total Loss=nan, CS Loss=nan, PDE Loss=0.033631, Boundary Loss=0.000000\n",
      "Epoch 3400: Total Loss=nan, CS Loss=nan, PDE Loss=0.073368, Boundary Loss=0.000000\n",
      "Epoch 3500: Total Loss=nan, CS Loss=nan, PDE Loss=0.801222, Boundary Loss=0.000000\n",
      "Epoch 3600: Total Loss=nan, CS Loss=nan, PDE Loss=0.026495, Boundary Loss=0.000000\n",
      "Epoch 3700: Total Loss=nan, CS Loss=nan, PDE Loss=0.024753, Boundary Loss=0.000000\n",
      "Epoch 3800: Total Loss=nan, CS Loss=nan, PDE Loss=0.026966, Boundary Loss=0.000000\n",
      "Epoch 3900: Total Loss=nan, CS Loss=nan, PDE Loss=0.133310, Boundary Loss=0.000000\n",
      "Epoch 4000: Total Loss=nan, CS Loss=nan, PDE Loss=97.652344, Boundary Loss=0.000006\n",
      "Epoch 4100: Total Loss=nan, CS Loss=nan, PDE Loss=0.018207, Boundary Loss=0.000000\n",
      "Epoch 4200: Total Loss=nan, CS Loss=nan, PDE Loss=0.019404, Boundary Loss=0.000000\n",
      "Epoch 4300: Total Loss=nan, CS Loss=nan, PDE Loss=1.175040, Boundary Loss=0.000000\n",
      "Epoch 4400: Total Loss=nan, CS Loss=nan, PDE Loss=0.015537, Boundary Loss=0.000000\n",
      "Epoch 4500: Total Loss=nan, CS Loss=nan, PDE Loss=2.299459, Boundary Loss=0.000000\n",
      "Epoch 4600: Total Loss=nan, CS Loss=nan, PDE Loss=0.013167, Boundary Loss=0.000000\n",
      "Epoch 4700: Total Loss=nan, CS Loss=nan, PDE Loss=0.011736, Boundary Loss=0.000000\n",
      "Epoch 4800: Total Loss=nan, CS Loss=nan, PDE Loss=0.011795, Boundary Loss=0.000000\n",
      "Epoch 4900: Total Loss=nan, CS Loss=nan, PDE Loss=0.009732, Boundary Loss=0.000000\n",
      "Epoch 5000: Total Loss=nan, CS Loss=nan, PDE Loss=0.028503, Boundary Loss=0.000000\n",
      "Epoch 5100: Total Loss=nan, CS Loss=nan, PDE Loss=0.064415, Boundary Loss=0.000000\n",
      "Epoch 5200: Total Loss=nan, CS Loss=nan, PDE Loss=0.016059, Boundary Loss=0.000000\n",
      "Epoch 5300: Total Loss=nan, CS Loss=nan, PDE Loss=0.021531, Boundary Loss=0.000000\n",
      "Epoch 5400: Total Loss=nan, CS Loss=nan, PDE Loss=0.011985, Boundary Loss=0.000000\n",
      "Epoch 5500: Total Loss=nan, CS Loss=nan, PDE Loss=0.007840, Boundary Loss=0.000000\n",
      "Epoch 5600: Total Loss=nan, CS Loss=nan, PDE Loss=0.029432, Boundary Loss=0.000000\n",
      "Epoch 5700: Total Loss=nan, CS Loss=nan, PDE Loss=0.187172, Boundary Loss=0.000000\n",
      "Epoch 5800: Total Loss=nan, CS Loss=nan, PDE Loss=0.008751, Boundary Loss=0.000000\n",
      "Epoch 5900: Total Loss=nan, CS Loss=nan, PDE Loss=0.020580, Boundary Loss=0.000000\n",
      "Epoch 6000: Total Loss=nan, CS Loss=nan, PDE Loss=0.009275, Boundary Loss=0.000000\n",
      "Epoch 6100: Total Loss=nan, CS Loss=nan, PDE Loss=0.005067, Boundary Loss=0.000000\n",
      "Epoch 6200: Total Loss=nan, CS Loss=nan, PDE Loss=0.006294, Boundary Loss=0.000000\n",
      "Epoch 6300: Total Loss=nan, CS Loss=nan, PDE Loss=0.004036, Boundary Loss=0.000000\n",
      "Epoch 6400: Total Loss=nan, CS Loss=nan, PDE Loss=0.030278, Boundary Loss=0.000000\n",
      "Epoch 6500: Total Loss=nan, CS Loss=nan, PDE Loss=0.021361, Boundary Loss=0.000000\n",
      "Epoch 6600: Total Loss=nan, CS Loss=nan, PDE Loss=0.004561, Boundary Loss=0.000000\n",
      "Epoch 6700: Total Loss=nan, CS Loss=nan, PDE Loss=0.006145, Boundary Loss=0.000000\n",
      "Epoch 6800: Total Loss=nan, CS Loss=nan, PDE Loss=0.236518, Boundary Loss=0.000000\n",
      "Epoch 6900: Total Loss=nan, CS Loss=nan, PDE Loss=0.005574, Boundary Loss=0.000000\n",
      "Epoch 7000: Total Loss=nan, CS Loss=nan, PDE Loss=0.002388, Boundary Loss=0.000000\n",
      "Epoch 7100: Total Loss=nan, CS Loss=nan, PDE Loss=0.006387, Boundary Loss=0.000000\n",
      "Epoch 7200: Total Loss=nan, CS Loss=nan, PDE Loss=0.061515, Boundary Loss=0.000000\n",
      "Epoch 7300: Total Loss=nan, CS Loss=nan, PDE Loss=9.050410, Boundary Loss=0.000001\n",
      "Epoch 7400: Total Loss=nan, CS Loss=nan, PDE Loss=0.001976, Boundary Loss=0.000000\n",
      "Epoch 7500: Total Loss=nan, CS Loss=nan, PDE Loss=0.075510, Boundary Loss=0.000000\n",
      "Epoch 7600: Total Loss=nan, CS Loss=nan, PDE Loss=0.002841, Boundary Loss=0.000000\n",
      "Epoch 7700: Total Loss=nan, CS Loss=nan, PDE Loss=0.723308, Boundary Loss=0.000000\n",
      "Epoch 7800: Total Loss=nan, CS Loss=nan, PDE Loss=0.001638, Boundary Loss=0.000000\n",
      "Epoch 7900: Total Loss=nan, CS Loss=nan, PDE Loss=0.001354, Boundary Loss=0.000000\n",
      "Epoch 8000: Total Loss=nan, CS Loss=nan, PDE Loss=0.001413, Boundary Loss=0.000000\n",
      "Epoch 8100: Total Loss=nan, CS Loss=nan, PDE Loss=0.001071, Boundary Loss=0.000000\n",
      "Epoch 8200: Total Loss=nan, CS Loss=nan, PDE Loss=0.001625, Boundary Loss=0.000000\n",
      "Epoch 8300: Total Loss=nan, CS Loss=nan, PDE Loss=17.022392, Boundary Loss=0.000001\n",
      "Epoch 8400: Total Loss=nan, CS Loss=nan, PDE Loss=0.002773, Boundary Loss=0.000000\n",
      "Epoch 8500: Total Loss=nan, CS Loss=nan, PDE Loss=0.080917, Boundary Loss=0.000000\n",
      "Epoch 8600: Total Loss=nan, CS Loss=nan, PDE Loss=0.020759, Boundary Loss=0.000000\n",
      "Epoch 8700: Total Loss=nan, CS Loss=nan, PDE Loss=0.072904, Boundary Loss=0.000000\n",
      "Epoch 8800: Total Loss=nan, CS Loss=nan, PDE Loss=0.000974, Boundary Loss=0.000000\n",
      "Epoch 8900: Total Loss=nan, CS Loss=nan, PDE Loss=0.002584, Boundary Loss=0.000000\n",
      "Epoch 9000: Total Loss=nan, CS Loss=nan, PDE Loss=3.708295, Boundary Loss=0.000000\n",
      "Epoch 9100: Total Loss=nan, CS Loss=nan, PDE Loss=0.002691, Boundary Loss=0.000000\n",
      "Epoch 9200: Total Loss=nan, CS Loss=nan, PDE Loss=0.001361, Boundary Loss=0.000000\n",
      "Epoch 9300: Total Loss=nan, CS Loss=nan, PDE Loss=0.043762, Boundary Loss=0.000000\n",
      "Epoch 9400: Total Loss=nan, CS Loss=nan, PDE Loss=31.856592, Boundary Loss=0.000002\n",
      "Epoch 9500: Total Loss=nan, CS Loss=nan, PDE Loss=0.059864, Boundary Loss=0.000000\n",
      "Epoch 9600: Total Loss=nan, CS Loss=nan, PDE Loss=0.003556, Boundary Loss=0.000000\n",
      "Epoch 9700: Total Loss=nan, CS Loss=nan, PDE Loss=0.002408, Boundary Loss=0.000000\n",
      "Epoch 9800: Total Loss=nan, CS Loss=nan, PDE Loss=0.001976, Boundary Loss=0.000000\n",
      "Epoch 9900: Total Loss=nan, CS Loss=nan, PDE Loss=0.001775, Boundary Loss=0.000000\n"
     ]
    }
   ],
   "source": [
    "# Step 6: Training Loop\n",
    "\n",
    "# Hyperparameters\n",
    "num_epochs = 10000\n",
    "learning_rate = 1e-3\n",
    "lambda_cs = 1.0\n",
    "lambda_pde = 1.0\n",
    "lambda_boundary = 1.0\n",
    "\n",
    "# Model Parameters\n",
    "sensing_matrix = torch.randn(36, 1000)  # Example sensing matrix\n",
    "num_lamp_layers = 10\n",
    "pinn_params = {\n",
    "    'input_dim': 3,\n",
    "    'hidden_dim': 50,\n",
    "    'output_dim': 1,\n",
    "    'num_hidden_layers': 4\n",
    "}\n",
    "\n",
    "# Instantiate Model\n",
    "model = CS_PINN_Model(sensing_matrix, num_lamp_layers, pinn_params).to(device)\n",
    "\n",
    "# Optimizer\n",
    "optimizer = optim.Adam(model.parameters(), lr=learning_rate)\n",
    "\n",
    "# Training Data (Placeholders)\n",
    "# y: Microphone measurements (36, batch_size)\n",
    "# x_pinn: Collocation points for PDE residual (N_samples, 3)\n",
    "# x_boundary: Boundary points from LiDAR (N_boundary, 3)\n",
    "# p_boundary: Boundary pressure values (N_boundary, 1)\n",
    "\n",
    "# For illustration purposes, let's create some synthetic data\n",
    "batch_size = 1  # For simplicity\n",
    "y = torch.randn(36, batch_size).to(device)\n",
    "\n",
    "# Enable gradients for x_pinn\n",
    "x_pinn = torch.randn(1000, 3, requires_grad=True).to(device)\n",
    "\n",
    "x_boundary = torch.randn(200, 3).to(device)\n",
    "p_boundary = torch.zeros(200, 1).to(device)  # Assuming zero boundary condition\n",
    "\n",
    "# Training Loop\n",
    "for epoch in range(num_epochs):\n",
    "    optimizer.zero_grad()\n",
    "    total_loss, cs_loss, pde_loss, boundary_loss = loss_function(\n",
    "        model, y, x_pinn, x_boundary, p_boundary, lambda_cs, lambda_pde, lambda_boundary)\n",
    "    total_loss.backward()\n",
    "    optimizer.step()\n",
    "    \n",
    "    if epoch % 100 == 0:\n",
    "        print(f\"Epoch {epoch}: Total Loss={total_loss.item():.6f}, CS Loss={cs_loss:.6f}, PDE Loss={pde_loss:.6f}, Boundary Loss={boundary_loss:.6f}\")\n"
   ]
  },
  {
   "cell_type": "code",
   "execution_count": 8,
   "metadata": {},
   "outputs": [],
   "source": [
    "# Create a grid of points in the x-y plane at z=0\n",
    "x_range = np.linspace(-1, 1, 100)\n",
    "y_range = np.linspace(-1, 1, 100)\n",
    "X, Y = np.meshgrid(x_range, y_range)\n",
    "Z = np.zeros_like(X)\n",
    "grid_points = np.vstack((X.flatten(), Y.flatten(), Z.flatten())).T\n",
    "grid_points_torch = torch.tensor(grid_points, dtype=torch.float32).to(device)\n"
   ]
  },
  {
   "cell_type": "code",
   "execution_count": 9,
   "metadata": {},
   "outputs": [],
   "source": [
    "# Parameters\n",
    "A = 1.0         # Amplitude\n",
    "frequency = 10  # Frequency in Hz\n",
    "c = 340         # Speed of sound in m/s\n",
    "omega = 2 * np.pi * frequency  # Angular frequency\n",
    "k = omega / c   # Wavenumber\n",
    "\n",
    "# Compute true pressure at microphone positions\n",
    "def compute_pressure(x):\n",
    "    r = np.linalg.norm(x, axis=1, keepdims=True)\n",
    "    p = A * np.exp(1j * k * r) / r\n",
    "    return np.real(p)\n"
   ]
  },
  {
   "cell_type": "code",
   "execution_count": 10,
   "metadata": {},
   "outputs": [],
   "source": [
    "# Compute true pressure at grid points\n",
    "p_true = compute_pressure(grid_points)\n",
    "p_true = p_true.reshape(X.shape)\n"
   ]
  },
  {
   "cell_type": "code",
   "execution_count": 13,
   "metadata": {},
   "outputs": [
    {
     "ename": "AttributeError",
     "evalue": "'Tensor' object has no attribute 'gpu'",
     "output_type": "error",
     "traceback": [
      "\u001b[1;31m---------------------------------------------------------------------------\u001b[0m",
      "\u001b[1;31mAttributeError\u001b[0m                            Traceback (most recent call last)",
      "Cell \u001b[1;32mIn[13], line 4\u001b[0m\n\u001b[0;32m      2\u001b[0m model\u001b[38;5;241m.\u001b[39meval()\n\u001b[0;32m      3\u001b[0m \u001b[38;5;28;01mwith\u001b[39;00m torch\u001b[38;5;241m.\u001b[39mno_grad():\n\u001b[1;32m----> 4\u001b[0m     p_pred \u001b[38;5;241m=\u001b[39m \u001b[43mmodel\u001b[49m\u001b[38;5;241;43m.\u001b[39;49m\u001b[43mpinn\u001b[49m\u001b[43m(\u001b[49m\u001b[43mgrid_points_torch\u001b[49m\u001b[43m)\u001b[49m\u001b[38;5;241;43m.\u001b[39;49m\u001b[43mgpu\u001b[49m()\u001b[38;5;241m.\u001b[39mnumpy()\u001b[38;5;241m.\u001b[39mreshape(X\u001b[38;5;241m.\u001b[39mshape)\n",
      "\u001b[1;31mAttributeError\u001b[0m: 'Tensor' object has no attribute 'gpu'"
     ]
    }
   ],
   "source": [
    "# Model Prediction\n",
    "model.eval()\n",
    "with torch.no_grad():\n",
    "    p_pred = model.pinn(grid_points_torch).cpu().numpy().reshape(X.shape)\n"
   ]
  },
  {
   "cell_type": "code",
   "execution_count": 12,
   "metadata": {},
   "outputs": [
    {
     "data": {
      "image/png": "[encoded data removed]",
      "text/plain": [
       "<Figure size 1200x500 with 4 Axes>"
      ]
     },
     "metadata": {},
     "output_type": "display_data"
    }
   ],
   "source": [
    "import matplotlib.pyplot as plt\n",
    "\n",
    "# True Pressure Field\n",
    "plt.figure(figsize=(12, 5))\n",
    "\n",
    "plt.subplot(1, 2, 1)\n",
    "plt.contourf(X, Y, p_true, levels=50, cmap='viridis')\n",
    "plt.colorbar()\n",
    "plt.title('True Pressure Field at z=0')\n",
    "plt.xlabel('x')\n",
    "plt.ylabel('y')\n",
    "\n",
    "# Predicted Pressure Field\n",
    "plt.subplot(1, 2, 2)\n",
    "plt.contourf(X, Y, p_pred, levels=50, cmap='viridis')\n",
    "plt.colorbar()\n",
    "plt.title('Predicted Pressure Field at z=0')\n",
    "plt.xlabel('x')\n",
    "plt.ylabel('y')\n",
    "\n",
    "plt.tight_layout()\n",
    "plt.show()\n"
   ]
  }
 ],
 "metadata": {
  "kernelspec": {
   "display_name": "myenv",
   "language": "python",
   "name": "python3"
  },
  "language_info": {
   "codemirror_mode": {
    "name": "ipython",
    "version": 3
   },
   "file_extension": ".py",
   "mimetype": "text/x-python",
   "name": "python",
   "nbconvert_exporter": "python",
   "pygments_lexer": "ipython3",
   "version": "3.12.5"
  }
 },
 "nbformat": 4,
 "nbformat_minor": 2
}
